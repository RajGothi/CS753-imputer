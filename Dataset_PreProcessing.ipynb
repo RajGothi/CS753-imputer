{
  "nbformat": 4,
  "nbformat_minor": 0,
  "metadata": {
    "colab": {
      "provenance": []
    },
    "kernelspec": {
      "name": "python3",
      "display_name": "Python 3"
    },
    "language_info": {
      "name": "python"
    }
  },
  "cells": [
    {
      "cell_type": "markdown",
      "source": [
        "# Get Data from Huggingface"
      ],
      "metadata": {
        "id": "V5XGEHu40Slo"
      }
    },
    {
      "cell_type": "code",
      "source": [
        "from datasets import load_dataset\n",
        "\n",
        "dataset = load_dataset(\"NX2411/AIhub-korean-speech-data\")"
      ],
      "metadata": {
        "colab": {
          "base_uri": "https://localhost:8080/",
          "height": 392,
          "referenced_widgets": [
            "f8d3c8d589d54efbba9880a89bc5c178",
            "271886aad4154929b562aba67476c460",
            "9f0cb04ecff14a68ae4fa1d3b1c112d5",
            "83ef151f9731453b8c1657ff097306b9",
            "8ff2baf4aa25463282fcf7a21669b9b1",
            "f384bfbc6ce746919ed04aaf76164b36",
            "57420e74d0d744598885907d87176ffc",
            "b2a030803a1741d496818a01fa9f8323",
            "5b669deb934c48559bed54be2cd1fe6d",
            "58a3b4ef5eca49068a7a2aaec5e6ceeb",
            "e1bfe0f203514a469119883a6e0347aa",
            "31f696596316476da833060882016f75",
            "bcd670432d25475e854b8408166f3d6a",
            "16cd3295b2524166bb1457310d56b38c",
            "681492713a094b2ebea9df5a1123c99a",
            "ec6d15788fe84fa6b6617e63b5e906fd",
            "620bcdec205541229f11096de878d407",
            "974bd29981d3414abb3a6cacd57b89b2",
            "792d48f974d84f2688a9021349137faf",
            "5459dae229a640509e696d9d11fd697a",
            "19cb9eeb07a1406a92530b6dbb351208",
            "4a07678928ed4217b23fd6fd1d76802d",
            "d663d1fa26bf49b99973f4f2607af448",
            "740e02232d214c30b7a4eb969d90ec54",
            "2ae10493e3644803b4281f8caf970aca",
            "4b92d244bcd84326a3efed9fb6f8a339",
            "cbbee6a99a8a4712b6d228ab02cd2027",
            "1eebd0accb2743e88dc521e5beb66ec1",
            "2f54a40af9944491b7f74785e002d064",
            "02edc2841d884d25a97e0840a4fe4f77",
            "dc291a8d3f6f4f95b6e541527bb13474",
            "dc18b7c633b44a90abe190ba900959d1",
            "50655921531843fd9551c3a5d5ca1914",
            "776ea6451f854fe99e836c60e2bd31b5",
            "645d0d46f988456d8b9c24fad6af5f03",
            "cb23cf6da4ef4e6ca72a3ecf81cbd062",
            "0a3a965bb44e40a4af2dd2330bd02f63",
            "a25f602a94594e908eeb3db5b7c8ca01",
            "06cb0a16a13d4b1eba77999085256565",
            "acfbe582699b42fbb0f164df01506cd7",
            "3fdacf346a1242eba2a731d2cbc278a6",
            "b6367c930eb248339f9079d0ad2081da",
            "fdcee530ca394cafb8e008b642613f22",
            "aab6868a26d249e9bbcb1754f6f7f565",
            "0967b2d8b8e94ad286957fe4e0e9ffb2",
            "1d48d9f9ae524deb9c0dd5c2f795e0cb",
            "69063711222347a3aec009cf5789c0d0",
            "f5932908df4b4a8ebe9f0c59281b5dae",
            "d90a2f3e96ad4d299da55d2229faf8bd",
            "773b3f2b3b274eaaac9c991a9d590f3a",
            "95842f0add6b44bebe4eaeb805f39f89",
            "3c6c7914c3984d36b99da5abf570b82d",
            "33cc54d64365468e97e30194693bae2b",
            "fce28d12b75d4f9691c9b87fc4f85c37",
            "c2ce812d0b6946f9a7afe0dbd8febac6",
            "34206e76171b40bfb0a879aeef4e83ad",
            "cc0c68cc63774521803e310eade7adb2",
            "5e249a71dc0e481787b5e437ce678289",
            "e5488b84601f485bafcb0f74c2188c88",
            "48bb16a5ebc94837a99312cb56c5d7df",
            "d7e87516dcf74116bdc755db453e45fe",
            "d0a0b3e8b4c0423c99a2d8ebbca1955a",
            "3c463317a21541ffae4c7ce9afe4f590",
            "8b21d0bc4d2e413cace423eefa5c37f1",
            "59ede6a799a44cd1be94cff0460ee6fc",
            "f774dc3e77ec4e8cb8041c521c0ac89e",
            "37d29389e6b4415c83f5892f71a7b916",
            "01ec8ddd5bca4caabbcbded620c36be1",
            "2f415d800eb6485aa74a087ac23e8664",
            "16d7d143cb084113b446a9a219a17cb9",
            "25399220925a4838ac4a9e54b7203515",
            "c6f91bc073c24cd3917d8b822e7b89f5",
            "4cca943d2d68464aa2625e6f16af326c",
            "fdb7e29d014448a09860ca471b299ba1",
            "9140a073058646d8962bd8180e7efa38",
            "f3d82e06fb0c4e45a5affa86b05ae5b2",
            "5d299fc348644becaa5a0b0a28528873",
            "4d27189cfcca41cb808a774cc554c02d",
            "7447582cdbd742c18db5288adf2ba5b9",
            "87567f15533d432b9aef2ce91915a1e5",
            "603e77e27b24407aac211f75d8726ded",
            "8d1a7859ed574b698ea15eafc845142b",
            "2bde319220d64b70be023e27a9413c55",
            "281bc9a5a7ca4338b8160ebb16032b2e",
            "fa8106a19d2043898b3e5bb7b34b8c32",
            "c53a99fc073e4e2ebc8d6fcbb352b186",
            "84a30208482b43689c50d581ebc32990",
            "b11e43fb46eb4919b360352370d7bc6f",
            "80343bc46979401981cb3f761a2cf5a8",
            "a4817617913b4c988d7ae56488c1ea8e",
            "daf2fff0c8934f628d733b284d20cd55",
            "bfc19edfdec04628a114c7f4750ef989",
            "e3bb753227954ea499c99ffe06b0b1c6",
            "8592341b3f024cd1bbafa47ee3a77439",
            "bc96c9dde7f7481d9c8ee8414af5c9ad",
            "e744f9d07fd646acadd9f0a47d5992a5",
            "13ae72e81e6c483f9d95d83d1e226dac",
            "a46fc7db8bdc46aabcfb6724b238cefe",
            "8df4e2172ce444fbbdcfd0b61d82fd3a",
            "c8166b6cdba040c7a46677cf9f8cb51a",
            "3b9544858a3f4bc3a25d6a38d3548e9d",
            "4f12bc85a6e2498ab8f9b8a2416d0ca2",
            "1ef26797d155483aa30596f6f3255d4b",
            "797c23973f504bf591a32c075f5d9af2",
            "3b3f329c0b5d4866a7b43d9366bec706",
            "24d6202319e849a8a5d5ba0ffdec50b7",
            "282eb7796817450e810f59202243d762",
            "4376a01a9a434509bbbc35b94b7ca647",
            "a4628e71737142c7a162464ab31c9f74",
            "2dcc6741258a42a49ce4f69e93c63e7f",
            "e1c84ea160e54e2385ebc1426209654e",
            "6be1c584586f471698e17a446123c43b",
            "30b791746c4c4f91bea1f9d48904c66c",
            "904f404beb58427a88bbd7cbf5f461dd",
            "7c01b8b78ea142be839cc787ce964913",
            "21b36d543ff9484a8bb39d3a299fc54e",
            "aa245088da0d49c5b2bd44fc6d9d93e9",
            "211490d6bab54c5abc94b099e0acb610",
            "237dae854a0b49fea290881cc9b6c9ca",
            "8eb476df1283449992320e453a746605",
            "7334d9ff75294e348968edf829080186",
            "4453725b5f55429fad311975136a97a0",
            "030a007ef0fc4b3eada42568c9dd2a8d",
            "f82cf76ab81245faadc5dd42337b70a2",
            "640dd597113d46018394a6cf2853f3ec",
            "a004622c6aea4581a3a71f30ed35b5a5",
            "788b2aca46774c4fb1285caed71a8e59",
            "39e6c192b48d49e19274ae2d07cd0570",
            "c9d684ee32de462fb3f5943acea73b7a",
            "73df9e135bd64eb8bc25bac8a2426905",
            "323c0707acea4a66b4846db372e7b27b",
            "0ab138243d684290a3ee31ae52bb9711"
          ]
        },
        "id": "W7-MT1BLgbnj",
        "outputId": "e659c770-a7cd-4f43-c117-561583e8dac6"
      },
      "execution_count": null,
      "outputs": [
        {
          "output_type": "display_data",
          "data": {
            "text/plain": [
              "Downloading metadata:   0%|          | 0.00/1.59k [00:00<?, ?B/s]"
            ],
            "application/vnd.jupyter.widget-view+json": {
              "version_major": 2,
              "version_minor": 0,
              "model_id": "f8d3c8d589d54efbba9880a89bc5c178"
            }
          },
          "metadata": {}
        },
        {
          "output_type": "display_data",
          "data": {
            "text/plain": [
              "Downloading readme:   0%|          | 0.00/28.0 [00:00<?, ?B/s]"
            ],
            "application/vnd.jupyter.widget-view+json": {
              "version_major": 2,
              "version_minor": 0,
              "model_id": "31f696596316476da833060882016f75"
            }
          },
          "metadata": {}
        },
        {
          "output_type": "stream",
          "name": "stdout",
          "text": [
            "Downloading and preparing dataset None/None (download: 1.74 GiB, generated: 1.74 GiB, post-processed: Unknown size, total: 3.48 GiB) to /root/.cache/huggingface/datasets/NX2411___parquet/NX2411--AIhub-korean-speech-data-599cc41ded692dd8/0.0.0/2a3b91fbd88a2c90d1dbbb32b460cf621d31bd5b05b934492fdef7d8d6f236ec...\n"
          ]
        },
        {
          "output_type": "display_data",
          "data": {
            "text/plain": [
              "Downloading data files:   0%|          | 0/2 [00:00<?, ?it/s]"
            ],
            "application/vnd.jupyter.widget-view+json": {
              "version_major": 2,
              "version_minor": 0,
              "model_id": "d663d1fa26bf49b99973f4f2607af448"
            }
          },
          "metadata": {}
        },
        {
          "output_type": "display_data",
          "data": {
            "text/plain": [
              "Downloading data:   0%|          | 0.00/424M [00:00<?, ?B/s]"
            ],
            "application/vnd.jupyter.widget-view+json": {
              "version_major": 2,
              "version_minor": 0,
              "model_id": "776ea6451f854fe99e836c60e2bd31b5"
            }
          },
          "metadata": {}
        },
        {
          "output_type": "display_data",
          "data": {
            "text/plain": [
              "Downloading data:   0%|          | 0.00/419M [00:00<?, ?B/s]"
            ],
            "application/vnd.jupyter.widget-view+json": {
              "version_major": 2,
              "version_minor": 0,
              "model_id": "0967b2d8b8e94ad286957fe4e0e9ffb2"
            }
          },
          "metadata": {}
        },
        {
          "output_type": "display_data",
          "data": {
            "text/plain": [
              "Downloading data:   0%|          | 0.00/417M [00:00<?, ?B/s]"
            ],
            "application/vnd.jupyter.widget-view+json": {
              "version_major": 2,
              "version_minor": 0,
              "model_id": "34206e76171b40bfb0a879aeef4e83ad"
            }
          },
          "metadata": {}
        },
        {
          "output_type": "display_data",
          "data": {
            "text/plain": [
              "Downloading data:   0%|          | 0.00/418M [00:00<?, ?B/s]"
            ],
            "application/vnd.jupyter.widget-view+json": {
              "version_major": 2,
              "version_minor": 0,
              "model_id": "37d29389e6b4415c83f5892f71a7b916"
            }
          },
          "metadata": {}
        },
        {
          "output_type": "display_data",
          "data": {
            "text/plain": [
              "Downloading data:   0%|          | 0.00/187M [00:00<?, ?B/s]"
            ],
            "application/vnd.jupyter.widget-view+json": {
              "version_major": 2,
              "version_minor": 0,
              "model_id": "4d27189cfcca41cb808a774cc554c02d"
            }
          },
          "metadata": {}
        },
        {
          "output_type": "display_data",
          "data": {
            "text/plain": [
              "Extracting data files:   0%|          | 0/2 [00:00<?, ?it/s]"
            ],
            "application/vnd.jupyter.widget-view+json": {
              "version_major": 2,
              "version_minor": 0,
              "model_id": "80343bc46979401981cb3f761a2cf5a8"
            }
          },
          "metadata": {}
        },
        {
          "output_type": "display_data",
          "data": {
            "text/plain": [
              "Generating train split:   0%|          | 0/4500 [00:00<?, ? examples/s]"
            ],
            "application/vnd.jupyter.widget-view+json": {
              "version_major": 2,
              "version_minor": 0,
              "model_id": "c8166b6cdba040c7a46677cf9f8cb51a"
            }
          },
          "metadata": {}
        },
        {
          "output_type": "display_data",
          "data": {
            "text/plain": [
              "Generating test split:   0%|          | 0/500 [00:00<?, ? examples/s]"
            ],
            "application/vnd.jupyter.widget-view+json": {
              "version_major": 2,
              "version_minor": 0,
              "model_id": "e1c84ea160e54e2385ebc1426209654e"
            }
          },
          "metadata": {}
        },
        {
          "output_type": "stream",
          "name": "stdout",
          "text": [
            "Dataset parquet downloaded and prepared to /root/.cache/huggingface/datasets/NX2411___parquet/NX2411--AIhub-korean-speech-data-599cc41ded692dd8/0.0.0/2a3b91fbd88a2c90d1dbbb32b460cf621d31bd5b05b934492fdef7d8d6f236ec. Subsequent calls will reuse this data.\n"
          ]
        },
        {
          "output_type": "display_data",
          "data": {
            "text/plain": [
              "  0%|          | 0/2 [00:00<?, ?it/s]"
            ],
            "application/vnd.jupyter.widget-view+json": {
              "version_major": 2,
              "version_minor": 0,
              "model_id": "4453725b5f55429fad311975136a97a0"
            }
          },
          "metadata": {}
        }
      ]
    },
    {
      "cell_type": "code",
      "source": [
        "dataset"
      ],
      "metadata": {
        "colab": {
          "base_uri": "https://localhost:8080/"
        },
        "id": "r44NoSybgdHZ",
        "outputId": "c741fc39-72c1-466f-8568-b1e81ed4a374"
      },
      "execution_count": null,
      "outputs": [
        {
          "output_type": "execute_result",
          "data": {
            "text/plain": [
              "DatasetDict({\n",
              "    train: Dataset({\n",
              "        features: ['input_length', 'input_values', 'texts', 'labels'],\n",
              "        num_rows: 4500\n",
              "    })\n",
              "    test: Dataset({\n",
              "        features: ['input_length', 'input_values', 'texts', 'labels'],\n",
              "        num_rows: 500\n",
              "    })\n",
              "})"
            ]
          },
          "metadata": {},
          "execution_count": 7
        }
      ]
    },
    {
      "cell_type": "code",
      "source": [
        "train = dataset[\"train\"]\n",
        "test = dataset[\"test\"]"
      ],
      "metadata": {
        "id": "MyDzCQ6Pg3Mr"
      },
      "execution_count": null,
      "outputs": []
    },
    {
      "cell_type": "markdown",
      "source": [
        "# Pre-process the Dataset and Store it in lmdb format\n",
        "\n",
        "It can be useful further for training. Don't need to repeat the same step again and again."
      ],
      "metadata": {
        "id": "uLV8JFjw63_r"
      }
    },
    {
      "cell_type": "code",
      "source": [
        "!mkdir \"dataset_path\""
      ],
      "metadata": {
        "id": "ACnzhU1HxzRC"
      },
      "execution_count": null,
      "outputs": []
    },
    {
      "cell_type": "code",
      "source": [
        "from scipy.io.wavfile import write\n",
        "import numpy as np\n",
        "import IPython\n",
        "\n",
        "for i in range(len(train)):\n",
        "\n",
        "    audio=train[i]['input_values']\n",
        "    text=train[i]['texts']\n",
        "\n",
        "    audio=np.array(audio)\n",
        "    pcm_signal = (audio * 32767).astype(np.int32)\n",
        "\n",
        "    with open(f'dataset_path/{i}.pcm', 'wb') as pcmfile:\n",
        "        pcm_signal.tofile(pcmfile)\n",
        "    with open(f'dataset_path/{i}.txt', 'wb') as pcmfile:\n",
        "        pcmfile.write(text.encode('utf-8'))"
      ],
      "metadata": {
        "id": "42qukNABlIkd"
      },
      "execution_count": null,
      "outputs": []
    },
    {
      "cell_type": "code",
      "source": [
        "# !zip -r \"/content/drive/MyDrive/dataset.zip\" \"/content/dataset_path\""
      ],
      "metadata": {
        "id": "Aqk0aut2lCfs"
      },
      "execution_count": null,
      "outputs": []
    },
    {
      "cell_type": "code",
      "source": [
        "!mkdir \"pickel_format\""
      ],
      "metadata": {
        "id": "_X034Poj3zF6"
      },
      "execution_count": null,
      "outputs": []
    },
    {
      "cell_type": "code",
      "source": [
        "!python \"/content/imputer-pytorch/example/asr/preprocess_aihub.py\" --path \"/content/dataset_path\" --n_mels=80 \"/content/pickel_format\""
      ],
      "metadata": {
        "colab": {
          "base_uri": "https://localhost:8080/"
        },
        "id": "1yomUGOh1jFl",
        "outputId": "9d0c7e6e-d6b8-4449-eb31-db2bc33a6b43"
      },
      "execution_count": null,
      "outputs": [
        {
          "output_type": "stream",
          "name": "stdout",
          "text": [
            "./999: 100% 4500/4500 [01:28<00:00, 50.85it/s] \n"
          ]
        }
      ]
    },
    {
      "cell_type": "code",
      "source": [
        "!zip -r \"/content/drive/MyDrive/pickel_format.zip\" \"/content/pickel_format\""
      ],
      "metadata": {
        "colab": {
          "base_uri": "https://localhost:8080/"
        },
        "id": "DOp7G9UL34IV",
        "outputId": "93d93aaa-e82c-4ebc-8144-eb83099c69a8"
      },
      "execution_count": null,
      "outputs": [
        {
          "output_type": "stream",
          "name": "stdout",
          "text": [
            "  adding: content/pickel_format/ (stored 0%)\n",
            "  adding: content/pickel_format/data.mdb (deflated 9%)\n",
            "  adding: content/pickel_format/lock.mdb (deflated 99%)\n"
          ]
        }
      ]
    }
  ]
}